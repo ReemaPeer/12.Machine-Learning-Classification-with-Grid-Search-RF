{
 "cells": [
  {
   "cell_type": "code",
   "execution_count": 5,
   "id": "d11ffbb5",
   "metadata": {},
   "outputs": [],
   "source": [
    "import pickle \n",
    "loaded_model = pickle.load(open(\"Final_RF_Model.sav\", 'rb'))"
   ]
  },
  {
   "cell_type": "code",
   "execution_count": 6,
   "id": "6a021ac0",
   "metadata": {},
   "outputs": [
    {
     "name": "stdout",
     "output_type": "stream",
     "text": [
      "Future Prediction is :  [1]\n"
     ]
    },
    {
     "name": "stderr",
     "output_type": "stream",
     "text": [
      "C:\\Users\\reema\\anaconda3\\Lib\\site-packages\\sklearn\\base.py:464: UserWarning: X does not have valid feature names, but RandomForestClassifier was fitted with feature names\n",
      "  warnings.warn(\n"
     ]
    }
   ],
   "source": [
    "Future_prediction = loaded_model.predict([[51,50,1,0,99,23,0.7,138,3.2,8.1,36,16789,4.6,0,0,1,0,1,0,1,1,0,0,1,0,1,0]])\n",
    "print(\"Future Prediction is : \", Future_prediction)"
   ]
  },
  {
   "cell_type": "code",
   "execution_count": null,
   "id": "3fb62b72",
   "metadata": {},
   "outputs": [],
   "source": []
  }
 ],
 "metadata": {
  "kernelspec": {
   "display_name": "Python 3 (ipykernel)",
   "language": "python",
   "name": "python3"
  },
  "language_info": {
   "codemirror_mode": {
    "name": "ipython",
    "version": 3
   },
   "file_extension": ".py",
   "mimetype": "text/x-python",
   "name": "python",
   "nbconvert_exporter": "python",
   "pygments_lexer": "ipython3",
   "version": "3.11.4"
  }
 },
 "nbformat": 4,
 "nbformat_minor": 5
}
